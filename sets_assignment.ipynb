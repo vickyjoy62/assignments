{
 "cells": [
  {
   "cell_type": "markdown",
   "id": "1f178bc0",
   "metadata": {},
   "source": [
    "#### Python Assignment"
   ]
  },
  {
   "cell_type": "markdown",
   "id": "21b8c2c1",
   "metadata": {},
   "source": [
    "#### 1. A intersection B"
   ]
  },
  {
   "cell_type": "code",
   "execution_count": 23,
   "id": "b19938a7",
   "metadata": {},
   "outputs": [
    {
     "data": {
      "text/plain": [
       "{8}"
      ]
     },
     "execution_count": 23,
     "metadata": {},
     "output_type": "execute_result"
    }
   ],
   "source": [
    "Ω={1,2,3,4,5,6,7,8,9,10,11,12}\n",
    "a={2,4,6,8,10}\n",
    "b={3,8,11,12}\n",
    "c={2,3,6,8,9,11}\n",
    "a&b"
   ]
  },
  {
   "cell_type": "markdown",
   "id": "85807e19",
   "metadata": {},
   "source": [
    "2. A union C"
   ]
  },
  {
   "cell_type": "code",
   "execution_count": 24,
   "id": "7ae4145e",
   "metadata": {},
   "outputs": [
    {
     "data": {
      "text/plain": [
       "{2, 3, 4, 6, 8, 9, 10, 11}"
      ]
     },
     "execution_count": 24,
     "metadata": {},
     "output_type": "execute_result"
    }
   ],
   "source": [
    "a|c"
   ]
  },
  {
   "cell_type": "markdown",
   "id": "f142d139",
   "metadata": {},
   "source": [
    "3. Complement of A"
   ]
  },
  {
   "cell_type": "code",
   "execution_count": 25,
   "id": "a1395f99",
   "metadata": {},
   "outputs": [
    {
     "data": {
      "text/plain": [
       "{1, 3, 5, 7, 9, 11, 12}"
      ]
     },
     "execution_count": 25,
     "metadata": {},
     "output_type": "execute_result"
    }
   ],
   "source": [
    "Ω-a"
   ]
  },
  {
   "cell_type": "markdown",
   "id": "7b45845a",
   "metadata": {},
   "source": [
    "4. Absolute complement of B"
   ]
  },
  {
   "cell_type": "code",
   "execution_count": 26,
   "id": "637794fc",
   "metadata": {},
   "outputs": [
    {
     "data": {
      "text/plain": [
       "{1, 2, 4, 5, 6, 7, 9, 10}"
      ]
     },
     "execution_count": 26,
     "metadata": {},
     "output_type": "execute_result"
    }
   ],
   "source": [
    "Ω-b"
   ]
  },
  {
   "cell_type": "markdown",
   "id": "350c323f",
   "metadata": {},
   "source": [
    "5. Complement of (A∪B)"
   ]
  },
  {
   "cell_type": "code",
   "execution_count": 27,
   "id": "d439104d",
   "metadata": {},
   "outputs": [
    {
     "data": {
      "text/plain": [
       "{1, 2, 3, 4, 5, 6, 7, 9, 10, 11, 12}"
      ]
     },
     "execution_count": 27,
     "metadata": {},
     "output_type": "execute_result"
    }
   ],
   "source": [
    "Ω-(a&b)"
   ]
  },
  {
   "cell_type": "markdown",
   "id": "1a4c8e5a",
   "metadata": {},
   "source": [
    "6. B intersection C complement"
   ]
  },
  {
   "cell_type": "code",
   "execution_count": 28,
   "id": "66f16d97",
   "metadata": {},
   "outputs": [
    {
     "data": {
      "text/plain": [
       "{12}"
      ]
     },
     "execution_count": 28,
     "metadata": {},
     "output_type": "execute_result"
    }
   ],
   "source": [
    "b&(Ω-c)"
   ]
  },
  {
   "cell_type": "markdown",
   "id": "d0477f9e",
   "metadata": {},
   "source": [
    "7. A\\B"
   ]
  },
  {
   "cell_type": "code",
   "execution_count": 29,
   "id": "0a66641b",
   "metadata": {},
   "outputs": [
    {
     "data": {
      "text/plain": [
       "{2, 4, 6, 10}"
      ]
     },
     "execution_count": 29,
     "metadata": {},
     "output_type": "execute_result"
    }
   ],
   "source": [
    "a-b"
   ]
  },
  {
   "cell_type": "markdown",
   "id": "60c0c7c2",
   "metadata": {},
   "source": [
    "8. C\\(B\\A)"
   ]
  },
  {
   "cell_type": "code",
   "execution_count": 30,
   "id": "db017231",
   "metadata": {},
   "outputs": [
    {
     "data": {
      "text/plain": [
       "{2, 6, 8, 9}"
      ]
     },
     "execution_count": 30,
     "metadata": {},
     "output_type": "execute_result"
    }
   ],
   "source": [
    "c-(b-a)"
   ]
  },
  {
   "cell_type": "markdown",
   "id": "2e0f6c3d",
   "metadata": {},
   "source": [
    "9. (C∩A)∪(C∖B)"
   ]
  },
  {
   "cell_type": "code",
   "execution_count": 31,
   "id": "038ba207",
   "metadata": {},
   "outputs": [
    {
     "data": {
      "text/plain": [
       "{2, 6, 8, 9}"
      ]
     },
     "execution_count": 31,
     "metadata": {},
     "output_type": "execute_result"
    }
   ],
   "source": [
    "(c&a)|(c-b)"
   ]
  }
 ],
 "metadata": {
  "kernelspec": {
   "display_name": "base",
   "language": "python",
   "name": "python3"
  },
  "language_info": {
   "codemirror_mode": {
    "name": "ipython",
    "version": 3
   },
   "file_extension": ".py",
   "mimetype": "text/x-python",
   "name": "python",
   "nbconvert_exporter": "python",
   "pygments_lexer": "ipython3",
   "version": "3.13.5"
  }
 },
 "nbformat": 4,
 "nbformat_minor": 5
}
